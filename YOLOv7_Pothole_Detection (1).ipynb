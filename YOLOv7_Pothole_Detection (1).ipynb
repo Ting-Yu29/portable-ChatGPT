{
  "metadata": {
    "kernelspec": {
      "display_name": "Python 3",
      "name": "python3"
    },
    "language_info": {
      "pygments_lexer": "ipython3",
      "nbconvert_exporter": "python",
      "version": "3.6.4",
      "file_extension": ".py",
      "codemirror_mode": {
        "name": "ipython",
        "version": 3
      },
      "name": "python",
      "mimetype": "text/x-python"
    },
    "colab": {
      "name": "YOLOv7 Pothole Detection",
      "provenance": [],
      "gpuType": "T4"
    },
    "accelerator": "GPU"
  },
  "nbformat_minor": 0,
  "nbformat": 4,
  "cells": [
    {
      "cell_type": "markdown",
      "source": [
        "# Pothole Detection using YOLOv7\n",
        "* YOLOv7 Tiny model fixed resolution training."
      ],
      "metadata": {
        "id": "JPB9MAhOSpXo"
      }
    },
    {
      "cell_type": "markdown",
      "source": [
        "## Dataset:  [Roboflow pothole detection dataset](https://public.roboflow.com/object-detection/pothole/1)\n",
        "* 1265 training images\n",
        "* 401 validation images\n",
        "* 118 test images"
      ],
      "metadata": {
        "id": "L52inEtDpTDh"
      }
    },
    {
      "cell_type": "code",
      "source": [
        "import os\n",
        "import glob as glob\n",
        "import matplotlib.pyplot as plt\n",
        "import random\n",
        "import cv2"
      ],
      "metadata": {
        "id": "Ext1XWfFSpXx",
        "execution": {
          "iopub.status.busy": "2022-08-25T04:12:41.939592Z",
          "iopub.execute_input": "2022-08-25T04:12:41.940871Z",
          "iopub.status.idle": "2022-08-25T04:12:42.154119Z",
          "shell.execute_reply.started": "2022-08-25T04:12:41.940724Z",
          "shell.execute_reply": "2022-08-25T04:12:42.152939Z"
        },
        "trusted": true
      },
      "execution_count": 1,
      "outputs": []
    },
    {
      "cell_type": "markdown",
      "source": [
        "## Download and Extract the Dataset"
      ],
      "metadata": {
        "id": "mcmUsjLr4miH"
      }
    },
    {
      "cell_type": "code",
      "source": [
        "# Download the dataset.\n",
        "!wget https://learnopencv.s3.us-west-2.amazonaws.com/pothole_dataset.zip"
      ],
      "metadata": {
        "id": "HfpKU3ffSpX3",
        "outputId": "1263a585-c690-4603-f1bd-f9acc0c8d564",
        "execution": {
          "iopub.status.busy": "2022-08-25T04:12:45.544255Z",
          "iopub.execute_input": "2022-08-25T04:12:45.544653Z",
          "iopub.status.idle": "2022-08-25T04:12:57.840208Z",
          "shell.execute_reply.started": "2022-08-25T04:12:45.54462Z",
          "shell.execute_reply": "2022-08-25T04:12:57.83908Z"
        },
        "trusted": true,
        "colab": {
          "base_uri": "https://localhost:8080/"
        }
      },
      "execution_count": null,
      "outputs": [
        {
          "output_type": "stream",
          "name": "stdout",
          "text": [
            "--2024-04-25 14:25:35--  https://learnopencv.s3.us-west-2.amazonaws.com/pothole_dataset.zip\n",
            "Resolving learnopencv.s3.us-west-2.amazonaws.com (learnopencv.s3.us-west-2.amazonaws.com)... 52.92.163.162, 3.5.85.143, 52.92.243.138, ...\n",
            "Connecting to learnopencv.s3.us-west-2.amazonaws.com (learnopencv.s3.us-west-2.amazonaws.com)|52.92.163.162|:443... connected.\n",
            "HTTP request sent, awaiting response... 200 OK\n",
            "Length: 439133609 (419M) [application/zip]\n",
            "Saving to: ‘pothole_dataset.zip’\n",
            "\n",
            "pothole_dataset.zip  83%[===============>    ] 350.61M  19.5MB/s    eta 5s     "
          ]
        }
      ]
    },
    {
      "cell_type": "code",
      "source": [
        "# Extract the dataset.\n",
        "!unzip -q pothole_dataset.zip"
      ],
      "metadata": {
        "id": "4EbeXuwmybIN",
        "execution": {
          "iopub.status.busy": "2022-08-25T04:12:57.842671Z",
          "iopub.execute_input": "2022-08-25T04:12:57.843135Z",
          "iopub.status.idle": "2022-08-25T04:13:02.838947Z",
          "shell.execute_reply.started": "2022-08-25T04:12:57.843093Z",
          "shell.execute_reply": "2022-08-25T04:13:02.83768Z"
        },
        "trusted": true
      },
      "execution_count": null,
      "outputs": []
    },
    {
      "cell_type": "code",
      "source": [
        "!ls -l pothole_dataset/images/test"
      ],
      "metadata": {
        "execution": {
          "iopub.status.busy": "2022-08-25T04:13:55.793387Z",
          "iopub.execute_input": "2022-08-25T04:13:55.793832Z",
          "iopub.status.idle": "2022-08-25T04:13:56.786363Z",
          "shell.execute_reply.started": "2022-08-25T04:13:55.793773Z",
          "shell.execute_reply": "2022-08-25T04:13:56.78528Z"
        },
        "trusted": true,
        "id": "A89uVJWcpTDi"
      },
      "execution_count": null,
      "outputs": []
    },
    {
      "cell_type": "markdown",
      "source": [
        "## Visualize Images from the Dataset"
      ],
      "metadata": {
        "id": "KrabU8kUSpX5"
      }
    },
    {
      "cell_type": "code",
      "source": [
        "# Function to convert bounding boxes in YOLO format to xmin, ymin, xmax, ymax.\n",
        "def yolo2bbox(bboxes):\n",
        "    xmin, ymin = bboxes[0]-bboxes[2]/2, bboxes[1]-bboxes[3]/2\n",
        "    xmax, ymax = bboxes[0]+bboxes[2]/2, bboxes[1]+bboxes[3]/2\n",
        "    return xmin, ymin, xmax, ymax"
      ],
      "metadata": {
        "id": "zoa1PLYVSpX6",
        "trusted": true
      },
      "execution_count": null,
      "outputs": []
    },
    {
      "cell_type": "code",
      "source": [
        "def plot_box(image, bboxes, labels):\n",
        "    # Need the image height and width to denormalize\n",
        "    # the bounding box coordinates\n",
        "    h, w, _ = image.shape\n",
        "    for box_num, box in enumerate(bboxes):\n",
        "        x1, y1, x2, y2 = yolo2bbox(box)\n",
        "        # Denormalize the coordinates.\n",
        "        xmin = int(x1*w)\n",
        "        ymin = int(y1*h)\n",
        "        xmax = int(x2*w)\n",
        "        ymax = int(y2*h)\n",
        "\n",
        "        thickness = max(2, int(w/275))\n",
        "\n",
        "        cv2.rectangle(\n",
        "            image,\n",
        "            (xmin, ymin), (xmax, ymax),\n",
        "            color=(0, 0, 255),\n",
        "            thickness=thickness\n",
        "        )\n",
        "    return image"
      ],
      "metadata": {
        "id": "kw7HlwsVSpX7",
        "trusted": true
      },
      "execution_count": null,
      "outputs": []
    },
    {
      "cell_type": "code",
      "source": [
        "# Function to plot images with the bounding boxes.\n",
        "def plot(image_paths, label_paths, num_samples):\n",
        "    all_images = []\n",
        "    all_images.extend(glob.glob(image_paths+'/*.jpg'))\n",
        "    all_images.extend(glob.glob(image_paths+'/*.JPG'))\n",
        "    all_labels = glob.glob(label_paths)\n",
        "\n",
        "    all_images.sort()\n",
        "    all_labels.sort()\n",
        "\n",
        "    num_images = len(all_images)\n",
        "\n",
        "    plt.figure(figsize=(15, 12))\n",
        "    for i in range(num_samples):\n",
        "        j = random.randint(0,num_images-1)\n",
        "        image = cv2.imread(all_images[j])\n",
        "        with open(all_labels[j], 'r') as f:\n",
        "            bboxes = []\n",
        "            labels = []\n",
        "            label_lines = f.readlines()\n",
        "            for label_line in label_lines:\n",
        "                label = label_line[0]\n",
        "                bbox_string = label_line[2:]\n",
        "                x_c, y_c, w, h = bbox_string.split(' ')\n",
        "                x_c = float(x_c)\n",
        "                y_c = float(y_c)\n",
        "                w = float(w)\n",
        "                h = float(h)\n",
        "                bboxes.append([x_c, y_c, w, h])\n",
        "                labels.append(label)\n",
        "        result_image = plot_box(image, bboxes, labels)\n",
        "        plt.subplot(2, 2, i+1)\n",
        "        plt.imshow(result_image[:, :, ::-1])\n",
        "        plt.axis('off')\n",
        "    plt.subplots_adjust(wspace=1)\n",
        "    plt.tight_layout()\n",
        "    plt.show()"
      ],
      "metadata": {
        "id": "VlVqwFIgSpX-",
        "trusted": true
      },
      "execution_count": null,
      "outputs": []
    },
    {
      "cell_type": "code",
      "source": [
        "# Visualize a few training images.\n",
        "plot(\n",
        "    image_paths='pothole_dataset/images/train/',\n",
        "    label_paths='pothole_dataset/labels/train/*.txt',\n",
        "    num_samples=4,\n",
        ")"
      ],
      "metadata": {
        "id": "UrcOAM5OSpYD",
        "trusted": true
      },
      "execution_count": null,
      "outputs": []
    },
    {
      "cell_type": "markdown",
      "source": [
        "## Repro [YOLOv7](https://github.com/WongKinYiu/yolov7.git)"
      ],
      "metadata": {
        "id": "PizCdknl6uSY"
      }
    },
    {
      "cell_type": "code",
      "source": [
        "if not os.path.exists('yolov7'):\n",
        "    !git clone https://github.com/WongKinYiu/yolov7.git"
      ],
      "metadata": {
        "id": "UksrAttJ9IQ5",
        "trusted": true
      },
      "execution_count": null,
      "outputs": []
    },
    {
      "cell_type": "code",
      "source": [
        "%cd yolov7"
      ],
      "metadata": {
        "id": "KJMeuen1_2d4",
        "trusted": true
      },
      "execution_count": null,
      "outputs": []
    },
    {
      "cell_type": "code",
      "source": [
        "!pip install -r requirements.txt\n",
        "!pip uninstall wandb -y"
      ],
      "metadata": {
        "id": "Tt_s9eW6BygL",
        "trusted": true
      },
      "execution_count": null,
      "outputs": []
    },
    {
      "cell_type": "markdown",
      "source": [
        "## Create the Data YAML File"
      ],
      "metadata": {
        "id": "R8WRVYhtyqn1"
      }
    },
    {
      "cell_type": "code",
      "source": [
        "%%writefile data/pothole.yaml\n",
        "train: ../pothole_dataset/images/train\n",
        "val: ../pothole_dataset/images/valid\n",
        "test: ../pothole_dataset/images/test\n",
        "\n",
        "# Classes\n",
        "nc: 1  # number of classes\n",
        "names: ['pothole']  # class names"
      ],
      "metadata": {
        "id": "8gCP0ko1_5BA",
        "trusted": true
      },
      "execution_count": null,
      "outputs": []
    },
    {
      "cell_type": "markdown",
      "source": [
        "## YOLOv7 Tiny Model Fixed Resolution Training"
      ],
      "metadata": {
        "id": "I8uxae4sCBJL"
      }
    },
    {
      "cell_type": "code",
      "source": [
        "# Download the Tiny model weights.\n",
        "!wget https://github.com/WongKinYiu/yolov7/releases/download/v0.1/yolov7-tiny.pt"
      ],
      "metadata": {
        "id": "Qi18zK4pSpYN",
        "trusted": true
      },
      "execution_count": null,
      "outputs": []
    },
    {
      "cell_type": "code",
      "source": [
        "%%writefile cfg/training/yolov7_pothole-tiny.yaml\n",
        "# parameters\n",
        "nc: 1  # number of classes\n",
        "depth_multiple: 1.0  # model depth multiple\n",
        "width_multiple: 1.0  # layer channel multiple\n",
        "\n",
        "# anchors\n",
        "anchors:\n",
        "  - [10,13, 16,30, 33,23]  # P3/8\n",
        "  - [30,61, 62,45, 59,119]  # P4/16\n",
        "  - [116,90, 156,198, 373,326]  # P5/32\n",
        "\n",
        "# yolov7-tiny backbone\n",
        "backbone:\n",
        "  # [from, number, module, args] c2, k=1, s=1, p=None, g=1, act=True\n",
        "  [[-1, 1, Conv, [32, 3, 2, None, 1, nn.LeakyReLU(0.1)]],  # 0-P1/2\n",
        "\n",
        "   [-1, 1, Conv, [64, 3, 2, None, 1, nn.LeakyReLU(0.1)]],  # 1-P2/4\n",
        "\n",
        "   [-1, 1, Conv, [32, 1, 1, None, 1, nn.LeakyReLU(0.1)]],\n",
        "   [-2, 1, Conv, [32, 1, 1, None, 1, nn.LeakyReLU(0.1)]],\n",
        "   [-1, 1, Conv, [32, 3, 1, None, 1, nn.LeakyReLU(0.1)]],\n",
        "   [-1, 1, Conv, [32, 3, 1, None, 1, nn.LeakyReLU(0.1)]],\n",
        "   [[-1, -2, -3, -4], 1, Concat, [1]],\n",
        "   [-1, 1, Conv, [64, 1, 1, None, 1, nn.LeakyReLU(0.1)]],  # 7\n",
        "\n",
        "   [-1, 1, MP, []],  # 8-P3/8\n",
        "   [-1, 1, Conv, [64, 1, 1, None, 1, nn.LeakyReLU(0.1)]],\n",
        "   [-2, 1, Conv, [64, 1, 1, None, 1, nn.LeakyReLU(0.1)]],\n",
        "   [-1, 1, Conv, [64, 3, 1, None, 1, nn.LeakyReLU(0.1)]],\n",
        "   [-1, 1, Conv, [64, 3, 1, None, 1, nn.LeakyReLU(0.1)]],\n",
        "   [[-1, -2, -3, -4], 1, Concat, [1]],\n",
        "   [-1, 1, Conv, [128, 1, 1, None, 1, nn.LeakyReLU(0.1)]],  # 14\n",
        "\n",
        "   [-1, 1, MP, []],  # 15-P4/16\n",
        "   [-1, 1, Conv, [128, 1, 1, None, 1, nn.LeakyReLU(0.1)]],\n",
        "   [-2, 1, Conv, [128, 1, 1, None, 1, nn.LeakyReLU(0.1)]],\n",
        "   [-1, 1, Conv, [128, 3, 1, None, 1, nn.LeakyReLU(0.1)]],\n",
        "   [-1, 1, Conv, [128, 3, 1, None, 1, nn.LeakyReLU(0.1)]],\n",
        "   [[-1, -2, -3, -4], 1, Concat, [1]],\n",
        "   [-1, 1, Conv, [256, 1, 1, None, 1, nn.LeakyReLU(0.1)]],  # 21\n",
        "\n",
        "   [-1, 1, MP, []],  # 22-P5/32\n",
        "   [-1, 1, Conv, [256, 1, 1, None, 1, nn.LeakyReLU(0.1)]],\n",
        "   [-2, 1, Conv, [256, 1, 1, None, 1, nn.LeakyReLU(0.1)]],\n",
        "   [-1, 1, Conv, [256, 3, 1, None, 1, nn.LeakyReLU(0.1)]],\n",
        "   [-1, 1, Conv, [256, 3, 1, None, 1, nn.LeakyReLU(0.1)]],\n",
        "   [[-1, -2, -3, -4], 1, Concat, [1]],\n",
        "   [-1, 1, Conv, [512, 1, 1, None, 1, nn.LeakyReLU(0.1)]],  # 28\n",
        "  ]\n",
        "\n",
        "# yolov7-tiny head\n",
        "head:\n",
        "  [[-1, 1, Conv, [256, 1, 1, None, 1, nn.LeakyReLU(0.1)]],\n",
        "   [-2, 1, Conv, [256, 1, 1, None, 1, nn.LeakyReLU(0.1)]],\n",
        "   [-1, 1, SP, [5]],\n",
        "   [-2, 1, SP, [9]],\n",
        "   [-3, 1, SP, [13]],\n",
        "   [[-1, -2, -3, -4], 1, Concat, [1]],\n",
        "   [-1, 1, Conv, [256, 1, 1, None, 1, nn.LeakyReLU(0.1)]],\n",
        "   [[-1, -7], 1, Concat, [1]],\n",
        "   [-1, 1, Conv, [256, 1, 1, None, 1, nn.LeakyReLU(0.1)]],  # 37\n",
        "\n",
        "   [-1, 1, Conv, [128, 1, 1, None, 1, nn.LeakyReLU(0.1)]],\n",
        "   [-1, 1, nn.Upsample, [None, 2, 'nearest']],\n",
        "   [21, 1, Conv, [128, 1, 1, None, 1, nn.LeakyReLU(0.1)]], # route backbone P4\n",
        "   [[-1, -2], 1, Concat, [1]],\n",
        "\n",
        "   [-1, 1, Conv, [64, 1, 1, None, 1, nn.LeakyReLU(0.1)]],\n",
        "   [-2, 1, Conv, [64, 1, 1, None, 1, nn.LeakyReLU(0.1)]],\n",
        "   [-1, 1, Conv, [64, 3, 1, None, 1, nn.LeakyReLU(0.1)]],\n",
        "   [-1, 1, Conv, [64, 3, 1, None, 1, nn.LeakyReLU(0.1)]],\n",
        "   [[-1, -2, -3, -4], 1, Concat, [1]],\n",
        "   [-1, 1, Conv, [128, 1, 1, None, 1, nn.LeakyReLU(0.1)]],  # 47\n",
        "\n",
        "   [-1, 1, Conv, [64, 1, 1, None, 1, nn.LeakyReLU(0.1)]],\n",
        "   [-1, 1, nn.Upsample, [None, 2, 'nearest']],\n",
        "   [14, 1, Conv, [64, 1, 1, None, 1, nn.LeakyReLU(0.1)]], # route backbone P3\n",
        "   [[-1, -2], 1, Concat, [1]],\n",
        "\n",
        "   [-1, 1, Conv, [32, 1, 1, None, 1, nn.LeakyReLU(0.1)]],\n",
        "   [-2, 1, Conv, [32, 1, 1, None, 1, nn.LeakyReLU(0.1)]],\n",
        "   [-1, 1, Conv, [32, 3, 1, None, 1, nn.LeakyReLU(0.1)]],\n",
        "   [-1, 1, Conv, [32, 3, 1, None, 1, nn.LeakyReLU(0.1)]],\n",
        "   [[-1, -2, -3, -4], 1, Concat, [1]],\n",
        "   [-1, 1, Conv, [64, 1, 1, None, 1, nn.LeakyReLU(0.1)]],  # 57\n",
        "\n",
        "   [-1, 1, Conv, [128, 3, 2, None, 1, nn.LeakyReLU(0.1)]],\n",
        "   [[-1, 47], 1, Concat, [1]],\n",
        "\n",
        "   [-1, 1, Conv, [64, 1, 1, None, 1, nn.LeakyReLU(0.1)]],\n",
        "   [-2, 1, Conv, [64, 1, 1, None, 1, nn.LeakyReLU(0.1)]],\n",
        "   [-1, 1, Conv, [64, 3, 1, None, 1, nn.LeakyReLU(0.1)]],\n",
        "   [-1, 1, Conv, [64, 3, 1, None, 1, nn.LeakyReLU(0.1)]],\n",
        "   [[-1, -2, -3, -4], 1, Concat, [1]],\n",
        "   [-1, 1, Conv, [128, 1, 1, None, 1, nn.LeakyReLU(0.1)]],  # 65\n",
        "\n",
        "   [-1, 1, Conv, [256, 3, 2, None, 1, nn.LeakyReLU(0.1)]],\n",
        "   [[-1, 37], 1, Concat, [1]],\n",
        "\n",
        "   [-1, 1, Conv, [128, 1, 1, None, 1, nn.LeakyReLU(0.1)]],\n",
        "   [-2, 1, Conv, [128, 1, 1, None, 1, nn.LeakyReLU(0.1)]],\n",
        "   [-1, 1, Conv, [128, 3, 1, None, 1, nn.LeakyReLU(0.1)]],\n",
        "   [-1, 1, Conv, [128, 3, 1, None, 1, nn.LeakyReLU(0.1)]],\n",
        "   [[-1, -2, -3, -4], 1, Concat, [1]],\n",
        "   [-1, 1, Conv, [256, 1, 1, None, 1, nn.LeakyReLU(0.1)]],  # 73\n",
        "\n",
        "   [57, 1, Conv, [128, 3, 1, None, 1, nn.LeakyReLU(0.1)]],\n",
        "   [65, 1, Conv, [256, 3, 1, None, 1, nn.LeakyReLU(0.1)]],\n",
        "   [73, 1, Conv, [512, 3, 1, None, 1, nn.LeakyReLU(0.1)]],\n",
        "\n",
        "   [[74,75,76], 1, IDetect, [nc, anchors]],   # Detect(P3, P4, P5)\n",
        "  ]"
      ],
      "metadata": {
        "id": "AhrOb7rMCGHN",
        "trusted": true
      },
      "execution_count": null,
      "outputs": []
    },
    {
      "cell_type": "markdown",
      "source": [
        "## Train Model"
      ],
      "metadata": {
        "id": "HYxkqihJpTDk"
      }
    },
    {
      "cell_type": "code",
      "source": [
        "!python train.py --epochs 100 --workers 4 --device 0 --batch-size 32 \\\n",
        "--data data/pothole.yaml --img 640 640 --cfg cfg/training/yolov7_pothole-tiny.yaml \\\n",
        "--weights 'yolov7-tiny.pt' --name yolov7_tiny_pothole_fixed_res --hyp data/hyp.scratch.tiny.yaml"
      ],
      "metadata": {
        "id": "ShbcTi4fSpYS",
        "trusted": true
      },
      "execution_count": null,
      "outputs": []
    },
    {
      "cell_type": "markdown",
      "source": [
        "## Test Model"
      ],
      "metadata": {
        "id": "a56TUe65pTDk"
      }
    },
    {
      "cell_type": "code",
      "source": [
        "!python test.py --weights runs/train/yolov7_tiny_pothole_fixed_res/weights/best.pt --task test --data data/pothole.yaml"
      ],
      "metadata": {
        "id": "ISV7-kqv2RTe",
        "trusted": true
      },
      "execution_count": null,
      "outputs": []
    },
    {
      "cell_type": "markdown",
      "source": [
        "## Inference"
      ],
      "metadata": {
        "id": "f-QVv1VQpTDk"
      }
    },
    {
      "cell_type": "code",
      "source": [
        "!python detect.py --weights runs/train/yolov7_tiny_pothole_fixed_res/weights/best.pt --conf 0.25 --img-size 640 --source ../pothole_dataset/images/test/G0010124.JPG"
      ],
      "metadata": {
        "trusted": true,
        "id": "9KJDfZhKpTDl"
      },
      "execution_count": null,
      "outputs": []
    },
    {
      "cell_type": "markdown",
      "source": [
        "## Show Result"
      ],
      "metadata": {
        "id": "Bf8jHlrgpTDl"
      }
    },
    {
      "cell_type": "code",
      "source": [
        "from IPython.display import Image"
      ],
      "metadata": {
        "id": "TM-QEqWYpTDl"
      },
      "execution_count": null,
      "outputs": []
    },
    {
      "cell_type": "code",
      "source": [
        "Image(filename='runs/detect/exp/G0010124.JPG')"
      ],
      "metadata": {
        "id": "vAthRCoKpTDl"
      },
      "execution_count": null,
      "outputs": []
    }
  ]
}